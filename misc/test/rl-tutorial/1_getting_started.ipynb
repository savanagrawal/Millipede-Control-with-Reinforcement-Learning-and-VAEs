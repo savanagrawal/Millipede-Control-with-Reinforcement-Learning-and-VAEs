{
 "cells": [
  {
   "attachments": {},
   "cell_type": "markdown",
   "metadata": {
    "colab_type": "text",
    "id": "view-in-github"
   },
   "source": [
    "<a href=\"https://colab.research.google.com/github/araffin/rl-tutorial-jnrr19/blob/sb3/1_getting_started.ipynb\" target=\"_parent\"><img src=\"https://colab.research.google.com/assets/colab-badge.svg\" alt=\"Open In Colab\"/></a>"
   ]
  },
  {
   "attachments": {},
   "cell_type": "markdown",
   "metadata": {
    "colab_type": "text",
    "id": "hyyN-2qyK_T2"
   },
   "source": [
    "# Stable Baselines3 Tutorial - Getting Started\n",
    "\n",
    "Github repo: https://github.com/araffin/rl-tutorial-jnrr19/tree/sb3/\n",
    "\n",
    "Stable-Baselines3: https://github.com/DLR-RM/stable-baselines3\n",
    "\n",
    "Documentation: https://stable-baselines3.readthedocs.io/en/master/\n",
    "\n",
    "SB3-Contrib: https://github.com/Stable-Baselines-Team/stable-baselines3-contrib\n",
    "\n",
    "RL Baselines3 zoo: https://github.com/DLR-RM/rl-baselines3-zoo\n",
    "\n",
    "[RL Baselines3 Zoo](https://github.com/DLR-RM/rl-baselines3-zoo) is a training framework for Reinforcement Learning (RL), using Stable Baselines3.\n",
    "\n",
    "It provides scripts for training, evaluating agents, tuning hyperparameters, plotting results and recording videos.\n",
    "\n",
    "\n",
    "## Introduction\n",
    "\n",
    "In this notebook, you will learn the basics for using stable baselines library: how to create a RL model, train it and evaluate it. Because all algorithms share the same interface, we will see how simple it is to switch from one algorithm to another.\n",
    "\n",
    "\n",
    "## Install Dependencies and Stable Baselines3 Using Pip\n",
    "\n",
    "List of full dependencies can be found in the [README](https://github.com/DLR-RM/stable-baselines3).\n",
    "\n",
    "\n",
    "```\n",
    "pip install stable-baselines3[extra]\n",
    "```"
   ]
  },
  {
   "cell_type": "code",
   "execution_count": null,
   "metadata": {},
   "outputs": [],
   "source": [
    "# for autoformatting\n",
    "# %load_ext jupyter_black"
   ]
  },
  {
   "cell_type": "code",
   "execution_count": 17,
   "metadata": {
    "colab": {
     "base_uri": "https://localhost:8080/",
     "height": 784
    },
    "colab_type": "code",
    "id": "gWskDE2c9WoN",
    "outputId": "03477445-4249-49c3-ddba-4e12df09e98e"
   },
   "outputs": [
    {
     "name": "stdout",
     "output_type": "stream",
     "text": [
      "\u001b[33mWarning:\u001b[0m No available formula with the name \"xvfb\".\n",
      "\u001b[34m==>\u001b[0m \u001b[1mSearching for similarly named formulae and casks...\u001b[0m\n",
      "\u001b[31mError:\u001b[0m No formulae or casks found for xvfb.\n"
     ]
    }
   ],
   "source": [
    "!brew install ffmpeg freeglut xvfb  # For visualization\n",
    "# !pip install \"stable-baselines3[extra]>=2.0.0a4\""
   ]
  },
  {
   "attachments": {},
   "cell_type": "markdown",
   "metadata": {
    "colab_type": "text",
    "id": "FtY8FhliLsGm"
   },
   "source": [
    "## Imports"
   ]
  },
  {
   "attachments": {},
   "cell_type": "markdown",
   "metadata": {
    "colab_type": "text",
    "id": "gcX8hEcaUpR0"
   },
   "source": [
    "Stable-Baselines3 works on environments that follow the [gym interface](https://stable-baselines3.readthedocs.io/en/master/guide/custom_env.html).\n",
    "You can find a list of available environment [here](https://gymnasium.farama.org/environments/classic_control/).\n",
    "\n",
    "Not all algorithms can work with all action spaces, you can find more in this [recap table](https://stable-baselines3.readthedocs.io/en/master/guide/algos.html)"
   ]
  },
  {
   "cell_type": "code",
   "execution_count": 2,
   "metadata": {
    "colab": {},
    "colab_type": "code",
    "id": "BIedd7Pz9sOs"
   },
   "outputs": [],
   "source": [
    "import gymnasium as gym\n",
    "import numpy as np"
   ]
  },
  {
   "attachments": {},
   "cell_type": "markdown",
   "metadata": {
    "colab_type": "text",
    "id": "Ae32CtgzTG3R"
   },
   "source": [
    "The first thing you need to import is the RL model, check the documentation to know what you can use on which problem"
   ]
  },
  {
   "cell_type": "code",
   "execution_count": 3,
   "metadata": {
    "colab": {},
    "colab_type": "code",
    "id": "R7tKaBFrTR0a"
   },
   "outputs": [],
   "source": [
    "from stable_baselines3 import PPO"
   ]
  },
  {
   "attachments": {},
   "cell_type": "markdown",
   "metadata": {
    "colab_type": "text",
    "id": "-0_8OQbOTTNT"
   },
   "source": [
    "The next thing you need to import is the policy class that will be used to create the networks (for the policy/value functions).\n",
    "This step is optional as you can directly use strings in the constructor: \n",
    "\n",
    "```PPO('MlpPolicy', env)``` instead of ```PPO(MlpPolicy, env)```\n",
    "\n",
    "Note that some algorithms like `SAC` have their own `MlpPolicy`, that's why using string for the policy is the recommended option."
   ]
  },
  {
   "cell_type": "code",
   "execution_count": 4,
   "metadata": {
    "colab": {},
    "colab_type": "code",
    "id": "ROUJr675TT01"
   },
   "outputs": [],
   "source": [
    "from stable_baselines3.ppo.policies import MlpPolicy"
   ]
  },
  {
   "attachments": {},
   "cell_type": "markdown",
   "metadata": {
    "colab_type": "text",
    "id": "RapkYvTXL7Cd"
   },
   "source": [
    "## Create the Gym env and instantiate the agent\n",
    "\n",
    "For this example, we will use CartPole environment, a classic control problem.\n",
    "\n",
    "\"A pole is attached by an un-actuated joint to a cart, which moves along a frictionless track. The system is controlled by applying a force of +1 or -1 to the cart. The pendulum starts upright, and the goal is to prevent it from falling over. A reward of +1 is provided for every timestep that the pole remains upright. \"\n",
    "\n",
    "Cartpole environment: [https://gymnasium.farama.org/environments/classic_control/cart_pole/](https://gymnasium.farama.org/environments/classic_control/cart_pole/)\n",
    "\n",
    "![Cartpole](https://cdn-images-1.medium.com/max/1143/1*h4WTQNVIsvMXJTCpXm_TAw.gif)\n",
    "\n",
    "\n",
    "We chose the MlpPolicy because the observation of the CartPole task is a feature vector, not images.\n",
    "\n",
    "The type of action to use (discrete/continuous) will be automatically deduced from the environment action space\n",
    "\n",
    "Here we are using the [Proximal Policy Optimization](https://stable-baselines3.readthedocs.io/en/master/modules/ppo.html) algorithm, which is an Actor-Critic method: it uses a value function to improve the policy gradient descent (by reducing the variance).\n",
    "\n",
    "It combines ideas from [A2C](https://stable-baselines3.readthedocs.io/en/master/modules/a2c.html) (having multiple workers and using an entropy bonus for exploration) and [TRPO](https://stable-baselines.readthedocs.io/en/master/modules/trpo.html) (it uses a trust region to improve stability and avoid catastrophic drops in performance).\n",
    "\n",
    "PPO is an on-policy algorithm, which means that the trajectories used to update the networks must be collected using the latest policy.\n",
    "It is usually less sample efficient than off-policy alorithms like [DQN](https://stable-baselines.readthedocs.io/en/master/modules/dqn.html), [SAC](https://stable-baselines3.readthedocs.io/en/master/modules/sac.html) or [TD3](https://stable-baselines3.readthedocs.io/en/master/modules/td3.html), but is much faster regarding wall-clock time.\n"
   ]
  },
  {
   "cell_type": "code",
   "execution_count": 5,
   "metadata": {
    "colab": {},
    "colab_type": "code",
    "id": "pUWGZp3i9wyf"
   },
   "outputs": [],
   "source": [
    "env = gym.make(\"CartPole-v1\")\n",
    "\n",
    "model = PPO(MlpPolicy, env, verbose=0)"
   ]
  },
  {
   "attachments": {},
   "cell_type": "markdown",
   "metadata": {
    "colab_type": "text",
    "id": "4efFdrQ7MBvl"
   },
   "source": [
    "We create a helper function to evaluate the agent:"
   ]
  },
  {
   "cell_type": "code",
   "execution_count": 6,
   "metadata": {
    "colab": {},
    "colab_type": "code",
    "id": "63M8mSKR-6Zt"
   },
   "outputs": [],
   "source": [
    "from stable_baselines3.common.base_class import BaseAlgorithm\n",
    "\n",
    "\n",
    "def evaluate(\n",
    "    model: BaseAlgorithm,\n",
    "    num_episodes: int = 100,\n",
    "    deterministic: bool = True,\n",
    ") -> float:\n",
    "    \"\"\"\n",
    "    Evaluate an RL agent for `num_episodes`.\n",
    "\n",
    "    :param model: the RL Agent\n",
    "    :param env: the gym Environment\n",
    "    :param num_episodes: number of episodes to evaluate it\n",
    "    :param deterministic: Whether to use deterministic or stochastic actions\n",
    "    :return: Mean reward for the last `num_episodes`\n",
    "    \"\"\"\n",
    "    # This function will only work for a single environment\n",
    "    vec_env = model.get_env()\n",
    "    obs = vec_env.reset()\n",
    "    all_episode_rewards = []\n",
    "    for _ in range(num_episodes):\n",
    "        episode_rewards = []\n",
    "        done = False\n",
    "        # Note: SB3 VecEnv resets automatically:\n",
    "        # https://stable-baselines3.readthedocs.io/en/master/guide/vec_envs.html#vecenv-api-vs-gym-api\n",
    "        # obs = vec_env.reset()\n",
    "        while not done:\n",
    "            # _states are only useful when using LSTM policies\n",
    "            # `deterministic` is to use deterministic actions\n",
    "            action, _states = model.predict(obs, deterministic=deterministic)\n",
    "            # here, action, rewards and dones are arrays\n",
    "            # because we are using vectorized env\n",
    "            obs, reward, done, _info = vec_env.step(action)\n",
    "            episode_rewards.append(reward)\n",
    "\n",
    "        all_episode_rewards.append(sum(episode_rewards))\n",
    "\n",
    "    mean_episode_reward = np.mean(all_episode_rewards)\n",
    "    print(f\"Mean reward: {mean_episode_reward:.2f} - Num episodes: {num_episodes}\")\n",
    "\n",
    "    return mean_episode_reward"
   ]
  },
  {
   "attachments": {},
   "cell_type": "markdown",
   "metadata": {
    "colab_type": "text",
    "id": "zjEVOIY8NVeK"
   },
   "source": [
    "Let's evaluate the un-trained agent, this should be a random agent."
   ]
  },
  {
   "cell_type": "code",
   "execution_count": 7,
   "metadata": {
    "colab": {
     "base_uri": "https://localhost:8080/",
     "height": 35
    },
    "colab_type": "code",
    "id": "xDHLMA6NFk95",
    "outputId": "231b2170-a607-48ed-e9d9-daef596f6384"
   },
   "outputs": [
    {
     "name": "stdout",
     "output_type": "stream",
     "text": [
      "Mean reward: 24.24 - Num episodes: 100\n"
     ]
    }
   ],
   "source": [
    "# Random Agent, before training\n",
    "mean_reward_before_train = evaluate(model, num_episodes=100, deterministic=True)"
   ]
  },
  {
   "attachments": {},
   "cell_type": "markdown",
   "metadata": {
    "colab_type": "text",
    "id": "QjjPxrwkYJ2i"
   },
   "source": [
    "Stable-Baselines already provides you with that helper:"
   ]
  },
  {
   "cell_type": "code",
   "execution_count": 8,
   "metadata": {
    "colab": {},
    "colab_type": "code",
    "id": "8z6K9YImYJEx"
   },
   "outputs": [],
   "source": [
    "from stable_baselines3.common.evaluation import evaluate_policy"
   ]
  },
  {
   "cell_type": "code",
   "execution_count": 9,
   "metadata": {
    "colab": {},
    "colab_type": "code",
    "id": "4oPTHjxyZSOL"
   },
   "outputs": [
    {
     "name": "stdout",
     "output_type": "stream",
     "text": [
      "mean_reward: 23.99 +/- 10.92\n"
     ]
    }
   ],
   "source": [
    "mean_reward, std_reward = evaluate_policy(model, env, n_eval_episodes=100, warn=False)\n",
    "\n",
    "print(f\"mean_reward: {mean_reward:.2f} +/- {std_reward:.2f}\")"
   ]
  },
  {
   "attachments": {},
   "cell_type": "markdown",
   "metadata": {
    "colab_type": "text",
    "id": "r5UoXTZPNdFE"
   },
   "source": [
    "## Train the agent and evaluate it"
   ]
  },
  {
   "cell_type": "code",
   "execution_count": 10,
   "metadata": {
    "colab": {},
    "colab_type": "code",
    "id": "e4cfSXIB-pTF"
   },
   "outputs": [
    {
     "data": {
      "text/plain": [
       "<stable_baselines3.ppo.ppo.PPO at 0x1689c3010>"
      ]
     },
     "execution_count": 10,
     "metadata": {},
     "output_type": "execute_result"
    }
   ],
   "source": [
    "# Train the agent for 10000 steps\n",
    "model.learn(total_timesteps=10_000)"
   ]
  },
  {
   "cell_type": "code",
   "execution_count": 11,
   "metadata": {
    "colab": {},
    "colab_type": "code",
    "id": "ygl_gVmV_QP7"
   },
   "outputs": [
    {
     "name": "stderr",
     "output_type": "stream",
     "text": [
      "/Users/savan/.pyenv/versions/3.11.4/lib/python3.11/site-packages/stable_baselines3/common/evaluation.py:67: UserWarning: Evaluation environment is not wrapped with a ``Monitor`` wrapper. This may result in reporting modified episode lengths and rewards, if other wrappers happen to modify these. Consider wrapping environment first with ``Monitor`` wrapper.\n",
      "  warnings.warn(\n"
     ]
    },
    {
     "name": "stdout",
     "output_type": "stream",
     "text": [
      "mean_reward:445.11 +/- 93.82\n"
     ]
    }
   ],
   "source": [
    "# Evaluate the trained agent\n",
    "mean_reward, std_reward = evaluate_policy(model, env, n_eval_episodes=100)\n",
    "\n",
    "print(f\"mean_reward:{mean_reward:.2f} +/- {std_reward:.2f}\")"
   ]
  },
  {
   "attachments": {},
   "cell_type": "markdown",
   "metadata": {
    "colab_type": "text",
    "id": "A00W6yY3NkHG"
   },
   "source": [
    "Apparently the training went well, the mean reward increased a lot ! "
   ]
  },
  {
   "attachments": {},
   "cell_type": "markdown",
   "metadata": {
    "colab_type": "text",
    "id": "xVm9QPNVwKXN"
   },
   "source": [
    "### Prepare video recording"
   ]
  },
  {
   "cell_type": "code",
   "execution_count": 12,
   "metadata": {
    "colab": {},
    "colab_type": "code",
    "id": "MPyfQxD5z26J"
   },
   "outputs": [
    {
     "name": "stderr",
     "output_type": "stream",
     "text": [
      "sh: Xvfb: command not found\n"
     ]
    }
   ],
   "source": [
    "# Set up fake display; otherwise rendering will fail\n",
    "import os\n",
    "os.system(\"Xvfb :1 -screen 0 1024x768x24 &\")\n",
    "os.environ['DISPLAY'] = ':1'"
   ]
  },
  {
   "cell_type": "code",
   "execution_count": 13,
   "metadata": {
    "colab": {},
    "colab_type": "code",
    "id": "SLzXxO8VMD6N"
   },
   "outputs": [],
   "source": [
    "import base64\n",
    "from pathlib import Path\n",
    "\n",
    "from IPython import display as ipythondisplay\n",
    "\n",
    "\n",
    "def show_videos(video_path=\"\", prefix=\"\"):\n",
    "    \"\"\"\n",
    "    Taken from https://github.com/eleurent/highway-env\n",
    "\n",
    "    :param video_path: (str) Path to the folder containing videos\n",
    "    :param prefix: (str) Filter the video, showing only the only starting with this prefix\n",
    "    \"\"\"\n",
    "    html = []\n",
    "    for mp4 in Path(video_path).glob(\"{}*.mp4\".format(prefix)):\n",
    "        video_b64 = base64.b64encode(mp4.read_bytes())\n",
    "        html.append(\n",
    "            \"\"\"<video alt=\"{}\" autoplay \n",
    "                    loop controls style=\"height: 400px;\">\n",
    "                    <source src=\"data:video/mp4;base64,{}\" type=\"video/mp4\" />\n",
    "                </video>\"\"\".format(\n",
    "                mp4, video_b64.decode(\"ascii\")\n",
    "            )\n",
    "        )\n",
    "    ipythondisplay.display(ipythondisplay.HTML(data=\"<br>\".join(html)))"
   ]
  },
  {
   "attachments": {},
   "cell_type": "markdown",
   "metadata": {
    "colab_type": "text",
    "id": "LTRNUfulOGaF"
   },
   "source": [
    "We will record a video using the [VecVideoRecorder](https://stable-baselines3.readthedocs.io/en/master/guide/vec_envs.html#vecvideorecorder) wrapper, you will learn about those wrapper in the next notebook."
   ]
  },
  {
   "cell_type": "code",
   "execution_count": 18,
   "metadata": {
    "colab": {},
    "colab_type": "code",
    "id": "Trag9dQpOIhx"
   },
   "outputs": [],
   "source": [
    "from stable_baselines3.common.vec_env import VecVideoRecorder, DummyVecEnv\n",
    "\n",
    "\n",
    "def record_video(env_id, model, video_length=500, prefix=\"\", video_folder=\"videos/\"):\n",
    "    \"\"\"\n",
    "    :param env_id: (str)\n",
    "    :param model: (RL model)\n",
    "    :param video_length: (int)\n",
    "    :param prefix: (str)\n",
    "    :param video_folder: (str)\n",
    "    \"\"\"\n",
    "    eval_env = DummyVecEnv([lambda: gym.make(env_id, render_mode=\"rgb_array\")])\n",
    "    # Start the video at step=0 and record 500 steps\n",
    "    eval_env = VecVideoRecorder(\n",
    "        eval_env,\n",
    "        video_folder=video_folder,\n",
    "        record_video_trigger=lambda step: step == 0,\n",
    "        video_length=video_length,\n",
    "        name_prefix=prefix,\n",
    "    )\n",
    "\n",
    "    obs = eval_env.reset()\n",
    "    for _ in range(video_length):\n",
    "        action, _ = model.predict(obs)\n",
    "        obs, _, _, _ = eval_env.step(action)\n",
    "\n",
    "    # Close the video recorder\n",
    "    eval_env.close()"
   ]
  },
  {
   "attachments": {},
   "cell_type": "markdown",
   "metadata": {
    "colab_type": "text",
    "id": "KOObbeu5MMlR"
   },
   "source": [
    "### Visualize trained agent\n",
    "\n"
   ]
  },
  {
   "cell_type": "code",
   "execution_count": 19,
   "metadata": {
    "colab": {
     "base_uri": "https://localhost:8080/",
     "height": 35
    },
    "colab_type": "code",
    "id": "iATu7AiyMQW2",
    "outputId": "68acb027-6c94-4389-8456-2cfb11494814"
   },
   "outputs": [
    {
     "name": "stderr",
     "output_type": "stream",
     "text": [
      "t:   0%|          | 1/501 [02:46<23:10:13, 166.83s/it, now=None]"
     ]
    },
    {
     "name": "stdout",
     "output_type": "stream",
     "text": [
      "Saving video to /Users/savan/Documents/UofG/MSc Project/Code/rl-tutorial-jnrr19-sb3/videos/ppo-cartpole-step-0-to-step-500.mp4\n",
      "Moviepy - Building video /Users/savan/Documents/UofG/MSc Project/Code/rl-tutorial-jnrr19-sb3/videos/ppo-cartpole-step-0-to-step-500.mp4.\n",
      "Moviepy - Writing video /Users/savan/Documents/UofG/MSc Project/Code/rl-tutorial-jnrr19-sb3/videos/ppo-cartpole-step-0-to-step-500.mp4\n",
      "\n"
     ]
    },
    {
     "name": "stderr",
     "output_type": "stream",
     "text": []
    },
    {
     "ename": "OSError",
     "evalue": "[Errno 32] Broken pipe\n\nMoviePy error: FFMPEG encountered the following error while writing file /Users/savan/Documents/UofG/MSc Project/Code/rl-tutorial-jnrr19-sb3/videos/ppo-cartpole-step-0-to-step-500.mp4:\n\n b\"Unrecognized option 'preset'.\\nError splitting the argument list: Option not found\\n\"",
     "output_type": "error",
     "traceback": [
      "\u001b[0;31m---------------------------------------------------------------------------\u001b[0m",
      "\u001b[0;31mBrokenPipeError\u001b[0m                           Traceback (most recent call last)",
      "File \u001b[0;32m~/.pyenv/versions/3.11.4/lib/python3.11/site-packages/moviepy/video/io/ffmpeg_writer.py:136\u001b[0m, in \u001b[0;36mFFMPEG_VideoWriter.write_frame\u001b[0;34m(self, img_array)\u001b[0m\n\u001b[1;32m    135\u001b[0m \u001b[39mif\u001b[39;00m PY3:\n\u001b[0;32m--> 136\u001b[0m    \u001b[39mself\u001b[39;49m\u001b[39m.\u001b[39;49mproc\u001b[39m.\u001b[39;49mstdin\u001b[39m.\u001b[39;49mwrite(img_array\u001b[39m.\u001b[39;49mtobytes())\n\u001b[1;32m    137\u001b[0m \u001b[39melse\u001b[39;00m:\n",
      "\u001b[0;31mBrokenPipeError\u001b[0m: [Errno 32] Broken pipe",
      "\nDuring handling of the above exception, another exception occurred:\n",
      "\u001b[0;31mOSError\u001b[0m                                   Traceback (most recent call last)",
      "Cell \u001b[0;32mIn[19], line 1\u001b[0m\n\u001b[0;32m----> 1\u001b[0m record_video(\u001b[39m\"\u001b[39;49m\u001b[39mCartPole-v1\u001b[39;49m\u001b[39m\"\u001b[39;49m, model, video_length\u001b[39m=\u001b[39;49m\u001b[39m500\u001b[39;49m, prefix\u001b[39m=\u001b[39;49m\u001b[39m\"\u001b[39;49m\u001b[39mppo-cartpole\u001b[39;49m\u001b[39m\"\u001b[39;49m)\n",
      "Cell \u001b[0;32mIn[18], line 25\u001b[0m, in \u001b[0;36mrecord_video\u001b[0;34m(env_id, model, video_length, prefix, video_folder)\u001b[0m\n\u001b[1;32m     23\u001b[0m \u001b[39mfor\u001b[39;00m _ \u001b[39min\u001b[39;00m \u001b[39mrange\u001b[39m(video_length):\n\u001b[1;32m     24\u001b[0m     action, _ \u001b[39m=\u001b[39m model\u001b[39m.\u001b[39mpredict(obs)\n\u001b[0;32m---> 25\u001b[0m     obs, _, _, _ \u001b[39m=\u001b[39m eval_env\u001b[39m.\u001b[39;49mstep(action)\n\u001b[1;32m     27\u001b[0m \u001b[39m# Close the video recorder\u001b[39;00m\n\u001b[1;32m     28\u001b[0m eval_env\u001b[39m.\u001b[39mclose()\n",
      "File \u001b[0;32m~/.pyenv/versions/3.11.4/lib/python3.11/site-packages/stable_baselines3/common/vec_env/base_vec_env.py:188\u001b[0m, in \u001b[0;36mVecEnv.step\u001b[0;34m(self, actions)\u001b[0m\n\u001b[1;32m    181\u001b[0m \u001b[39m\u001b[39m\u001b[39m\"\"\"\u001b[39;00m\n\u001b[1;32m    182\u001b[0m \u001b[39mStep the environments with the given action\u001b[39;00m\n\u001b[1;32m    183\u001b[0m \n\u001b[1;32m    184\u001b[0m \u001b[39m:param actions: the action\u001b[39;00m\n\u001b[1;32m    185\u001b[0m \u001b[39m:return: observation, reward, done, information\u001b[39;00m\n\u001b[1;32m    186\u001b[0m \u001b[39m\"\"\"\u001b[39;00m\n\u001b[1;32m    187\u001b[0m \u001b[39mself\u001b[39m\u001b[39m.\u001b[39mstep_async(actions)\n\u001b[0;32m--> 188\u001b[0m \u001b[39mreturn\u001b[39;00m \u001b[39mself\u001b[39;49m\u001b[39m.\u001b[39;49mstep_wait()\n",
      "File \u001b[0;32m~/.pyenv/versions/3.11.4/lib/python3.11/site-packages/stable_baselines3/common/vec_env/vec_video_recorder.py:96\u001b[0m, in \u001b[0;36mVecVideoRecorder.step_wait\u001b[0;34m(self)\u001b[0m\n\u001b[1;32m     94\u001b[0m     \u001b[39mif\u001b[39;00m \u001b[39mself\u001b[39m\u001b[39m.\u001b[39mrecorded_frames \u001b[39m>\u001b[39m \u001b[39mself\u001b[39m\u001b[39m.\u001b[39mvideo_length:\n\u001b[1;32m     95\u001b[0m         \u001b[39mprint\u001b[39m(\u001b[39mf\u001b[39m\u001b[39m\"\u001b[39m\u001b[39mSaving video to \u001b[39m\u001b[39m{\u001b[39;00m\u001b[39mself\u001b[39m\u001b[39m.\u001b[39mvideo_recorder\u001b[39m.\u001b[39mpath\u001b[39m}\u001b[39;00m\u001b[39m\"\u001b[39m)\n\u001b[0;32m---> 96\u001b[0m         \u001b[39mself\u001b[39;49m\u001b[39m.\u001b[39;49mclose_video_recorder()\n\u001b[1;32m     97\u001b[0m \u001b[39melif\u001b[39;00m \u001b[39mself\u001b[39m\u001b[39m.\u001b[39m_video_enabled():\n\u001b[1;32m     98\u001b[0m     \u001b[39mself\u001b[39m\u001b[39m.\u001b[39mstart_video_recorder()\n",
      "File \u001b[0;32m~/.pyenv/versions/3.11.4/lib/python3.11/site-packages/stable_baselines3/common/vec_env/vec_video_recorder.py:104\u001b[0m, in \u001b[0;36mVecVideoRecorder.close_video_recorder\u001b[0;34m(self)\u001b[0m\n\u001b[1;32m    102\u001b[0m \u001b[39mdef\u001b[39;00m \u001b[39mclose_video_recorder\u001b[39m(\u001b[39mself\u001b[39m) \u001b[39m-\u001b[39m\u001b[39m>\u001b[39m \u001b[39mNone\u001b[39;00m:\n\u001b[1;32m    103\u001b[0m     \u001b[39mif\u001b[39;00m \u001b[39mself\u001b[39m\u001b[39m.\u001b[39mrecording:\n\u001b[0;32m--> 104\u001b[0m         \u001b[39mself\u001b[39;49m\u001b[39m.\u001b[39;49mvideo_recorder\u001b[39m.\u001b[39;49mclose()\n\u001b[1;32m    105\u001b[0m     \u001b[39mself\u001b[39m\u001b[39m.\u001b[39mrecording \u001b[39m=\u001b[39m \u001b[39mFalse\u001b[39;00m\n\u001b[1;32m    106\u001b[0m     \u001b[39mself\u001b[39m\u001b[39m.\u001b[39mrecorded_frames \u001b[39m=\u001b[39m \u001b[39m1\u001b[39m\n",
      "File \u001b[0;32m~/.pyenv/versions/3.11.4/lib/python3.11/site-packages/gymnasium/wrappers/monitoring/video_recorder.py:161\u001b[0m, in \u001b[0;36mVideoRecorder.close\u001b[0;34m(self)\u001b[0m\n\u001b[1;32m    159\u001b[0m     clip \u001b[39m=\u001b[39m ImageSequenceClip(\u001b[39mself\u001b[39m\u001b[39m.\u001b[39mrecorded_frames, fps\u001b[39m=\u001b[39m\u001b[39mself\u001b[39m\u001b[39m.\u001b[39mframes_per_sec)\n\u001b[1;32m    160\u001b[0m     moviepy_logger \u001b[39m=\u001b[39m \u001b[39mNone\u001b[39;00m \u001b[39mif\u001b[39;00m \u001b[39mself\u001b[39m\u001b[39m.\u001b[39mdisable_logger \u001b[39melse\u001b[39;00m \u001b[39m\"\u001b[39m\u001b[39mbar\u001b[39m\u001b[39m\"\u001b[39m\n\u001b[0;32m--> 161\u001b[0m     clip\u001b[39m.\u001b[39;49mwrite_videofile(\u001b[39mself\u001b[39;49m\u001b[39m.\u001b[39;49mpath, logger\u001b[39m=\u001b[39;49mmoviepy_logger)\n\u001b[1;32m    162\u001b[0m \u001b[39melse\u001b[39;00m:\n\u001b[1;32m    163\u001b[0m     \u001b[39m# No frames captured. Set metadata.\u001b[39;00m\n\u001b[1;32m    164\u001b[0m     \u001b[39mif\u001b[39;00m \u001b[39mself\u001b[39m\u001b[39m.\u001b[39mmetadata \u001b[39mis\u001b[39;00m \u001b[39mNone\u001b[39;00m:\n",
      "File \u001b[0;32m<decorator-gen-69>:2\u001b[0m, in \u001b[0;36mwrite_videofile\u001b[0;34m(self, filename, fps, codec, bitrate, audio, audio_fps, preset, audio_nbytes, audio_codec, audio_bitrate, audio_bufsize, temp_audiofile, rewrite_audio, remove_temp, write_logfile, verbose, threads, ffmpeg_params, logger)\u001b[0m\n",
      "File \u001b[0;32m~/.pyenv/versions/3.11.4/lib/python3.11/site-packages/moviepy/decorators.py:54\u001b[0m, in \u001b[0;36mrequires_duration\u001b[0;34m(f, clip, *a, **k)\u001b[0m\n\u001b[1;32m     52\u001b[0m     \u001b[39mraise\u001b[39;00m \u001b[39mValueError\u001b[39;00m(\u001b[39m\"\u001b[39m\u001b[39mAttribute \u001b[39m\u001b[39m'\u001b[39m\u001b[39mduration\u001b[39m\u001b[39m'\u001b[39m\u001b[39m not set\u001b[39m\u001b[39m\"\u001b[39m)\n\u001b[1;32m     53\u001b[0m \u001b[39melse\u001b[39;00m:\n\u001b[0;32m---> 54\u001b[0m     \u001b[39mreturn\u001b[39;00m f(clip, \u001b[39m*\u001b[39;49ma, \u001b[39m*\u001b[39;49m\u001b[39m*\u001b[39;49mk)\n",
      "File \u001b[0;32m<decorator-gen-68>:2\u001b[0m, in \u001b[0;36mwrite_videofile\u001b[0;34m(self, filename, fps, codec, bitrate, audio, audio_fps, preset, audio_nbytes, audio_codec, audio_bitrate, audio_bufsize, temp_audiofile, rewrite_audio, remove_temp, write_logfile, verbose, threads, ffmpeg_params, logger)\u001b[0m\n",
      "File \u001b[0;32m~/.pyenv/versions/3.11.4/lib/python3.11/site-packages/moviepy/decorators.py:135\u001b[0m, in \u001b[0;36muse_clip_fps_by_default\u001b[0;34m(f, clip, *a, **k)\u001b[0m\n\u001b[1;32m    130\u001b[0m new_a \u001b[39m=\u001b[39m [fun(arg) \u001b[39mif\u001b[39;00m (name\u001b[39m==\u001b[39m\u001b[39m'\u001b[39m\u001b[39mfps\u001b[39m\u001b[39m'\u001b[39m) \u001b[39melse\u001b[39;00m arg\n\u001b[1;32m    131\u001b[0m          \u001b[39mfor\u001b[39;00m (arg, name) \u001b[39min\u001b[39;00m \u001b[39mzip\u001b[39m(a, names)]\n\u001b[1;32m    132\u001b[0m new_kw \u001b[39m=\u001b[39m {k: fun(v) \u001b[39mif\u001b[39;00m k\u001b[39m==\u001b[39m\u001b[39m'\u001b[39m\u001b[39mfps\u001b[39m\u001b[39m'\u001b[39m \u001b[39melse\u001b[39;00m v\n\u001b[1;32m    133\u001b[0m          \u001b[39mfor\u001b[39;00m (k,v) \u001b[39min\u001b[39;00m k\u001b[39m.\u001b[39mitems()}\n\u001b[0;32m--> 135\u001b[0m \u001b[39mreturn\u001b[39;00m f(clip, \u001b[39m*\u001b[39;49mnew_a, \u001b[39m*\u001b[39;49m\u001b[39m*\u001b[39;49mnew_kw)\n",
      "File \u001b[0;32m<decorator-gen-67>:2\u001b[0m, in \u001b[0;36mwrite_videofile\u001b[0;34m(self, filename, fps, codec, bitrate, audio, audio_fps, preset, audio_nbytes, audio_codec, audio_bitrate, audio_bufsize, temp_audiofile, rewrite_audio, remove_temp, write_logfile, verbose, threads, ffmpeg_params, logger)\u001b[0m\n",
      "File \u001b[0;32m~/.pyenv/versions/3.11.4/lib/python3.11/site-packages/moviepy/decorators.py:22\u001b[0m, in \u001b[0;36mconvert_masks_to_RGB\u001b[0;34m(f, clip, *a, **k)\u001b[0m\n\u001b[1;32m     20\u001b[0m \u001b[39mif\u001b[39;00m clip\u001b[39m.\u001b[39mismask:\n\u001b[1;32m     21\u001b[0m     clip \u001b[39m=\u001b[39m clip\u001b[39m.\u001b[39mto_RGB()\n\u001b[0;32m---> 22\u001b[0m \u001b[39mreturn\u001b[39;00m f(clip, \u001b[39m*\u001b[39;49ma, \u001b[39m*\u001b[39;49m\u001b[39m*\u001b[39;49mk)\n",
      "File \u001b[0;32m~/.pyenv/versions/3.11.4/lib/python3.11/site-packages/moviepy/video/VideoClip.py:300\u001b[0m, in \u001b[0;36mVideoClip.write_videofile\u001b[0;34m(self, filename, fps, codec, bitrate, audio, audio_fps, preset, audio_nbytes, audio_codec, audio_bitrate, audio_bufsize, temp_audiofile, rewrite_audio, remove_temp, write_logfile, verbose, threads, ffmpeg_params, logger)\u001b[0m\n\u001b[1;32m    292\u001b[0m \u001b[39mif\u001b[39;00m make_audio:\n\u001b[1;32m    293\u001b[0m     \u001b[39mself\u001b[39m\u001b[39m.\u001b[39maudio\u001b[39m.\u001b[39mwrite_audiofile(audiofile, audio_fps,\n\u001b[1;32m    294\u001b[0m                                audio_nbytes, audio_bufsize,\n\u001b[1;32m    295\u001b[0m                                audio_codec, bitrate\u001b[39m=\u001b[39maudio_bitrate,\n\u001b[1;32m    296\u001b[0m                                write_logfile\u001b[39m=\u001b[39mwrite_logfile,\n\u001b[1;32m    297\u001b[0m                                verbose\u001b[39m=\u001b[39mverbose,\n\u001b[1;32m    298\u001b[0m                                logger\u001b[39m=\u001b[39mlogger)\n\u001b[0;32m--> 300\u001b[0m ffmpeg_write_video(\u001b[39mself\u001b[39;49m, filename, fps, codec,\n\u001b[1;32m    301\u001b[0m                    bitrate\u001b[39m=\u001b[39;49mbitrate,\n\u001b[1;32m    302\u001b[0m                    preset\u001b[39m=\u001b[39;49mpreset,\n\u001b[1;32m    303\u001b[0m                    write_logfile\u001b[39m=\u001b[39;49mwrite_logfile,\n\u001b[1;32m    304\u001b[0m                    audiofile\u001b[39m=\u001b[39;49maudiofile,\n\u001b[1;32m    305\u001b[0m                    verbose\u001b[39m=\u001b[39;49mverbose, threads\u001b[39m=\u001b[39;49mthreads,\n\u001b[1;32m    306\u001b[0m                    ffmpeg_params\u001b[39m=\u001b[39;49mffmpeg_params,\n\u001b[1;32m    307\u001b[0m                    logger\u001b[39m=\u001b[39;49mlogger)\n\u001b[1;32m    309\u001b[0m \u001b[39mif\u001b[39;00m remove_temp \u001b[39mand\u001b[39;00m make_audio:\n\u001b[1;32m    310\u001b[0m     \u001b[39mif\u001b[39;00m os\u001b[39m.\u001b[39mpath\u001b[39m.\u001b[39mexists(audiofile):\n",
      "File \u001b[0;32m~/.pyenv/versions/3.11.4/lib/python3.11/site-packages/moviepy/video/io/ffmpeg_writer.py:228\u001b[0m, in \u001b[0;36mffmpeg_write_video\u001b[0;34m(clip, filename, fps, codec, bitrate, preset, withmask, write_logfile, audiofile, verbose, threads, ffmpeg_params, logger)\u001b[0m\n\u001b[1;32m    225\u001b[0m                 mask \u001b[39m=\u001b[39m mask\u001b[39m.\u001b[39mastype(\u001b[39m\"\u001b[39m\u001b[39muint8\u001b[39m\u001b[39m\"\u001b[39m)\n\u001b[1;32m    226\u001b[0m             frame \u001b[39m=\u001b[39m np\u001b[39m.\u001b[39mdstack([frame,mask])\n\u001b[0;32m--> 228\u001b[0m         writer\u001b[39m.\u001b[39;49mwrite_frame(frame)\n\u001b[1;32m    230\u001b[0m \u001b[39mif\u001b[39;00m write_logfile:\n\u001b[1;32m    231\u001b[0m     logfile\u001b[39m.\u001b[39mclose()\n",
      "File \u001b[0;32m~/.pyenv/versions/3.11.4/lib/python3.11/site-packages/moviepy/video/io/ffmpeg_writer.py:180\u001b[0m, in \u001b[0;36mFFMPEG_VideoWriter.write_frame\u001b[0;34m(self, img_array)\u001b[0m\n\u001b[1;32m    174\u001b[0m \u001b[39melif\u001b[39;00m \u001b[39mb\u001b[39m\u001b[39m\"\u001b[39m\u001b[39mInvalid encoder type\u001b[39m\u001b[39m\"\u001b[39m \u001b[39min\u001b[39;00m ffmpeg_error:\n\u001b[1;32m    176\u001b[0m     error \u001b[39m=\u001b[39m error \u001b[39m+\u001b[39m (\u001b[39m\"\u001b[39m\u001b[39m\\n\u001b[39;00m\u001b[39m\\n\u001b[39;00m\u001b[39mThe video export failed because the codec \u001b[39m\u001b[39m\"\u001b[39m\n\u001b[1;32m    177\u001b[0m       \u001b[39m\"\u001b[39m\u001b[39mor file extension you provided is not a video\u001b[39m\u001b[39m\"\u001b[39m)\n\u001b[0;32m--> 180\u001b[0m \u001b[39mraise\u001b[39;00m \u001b[39mIOError\u001b[39;00m(error)\n",
      "\u001b[0;31mOSError\u001b[0m: [Errno 32] Broken pipe\n\nMoviePy error: FFMPEG encountered the following error while writing file /Users/savan/Documents/UofG/MSc Project/Code/rl-tutorial-jnrr19-sb3/videos/ppo-cartpole-step-0-to-step-500.mp4:\n\n b\"Unrecognized option 'preset'.\\nError splitting the argument list: Option not found\\n\""
     ]
    }
   ],
   "source": [
    "record_video(\"CartPole-v1\", model, video_length=500, prefix=\"ppo-cartpole\")"
   ]
  },
  {
   "cell_type": "code",
   "execution_count": null,
   "metadata": {
    "colab": {},
    "colab_type": "code",
    "id": "-n4i-fW3NojZ"
   },
   "outputs": [],
   "source": [
    "show_videos(\"videos\", prefix=\"ppo\")"
   ]
  },
  {
   "attachments": {},
   "cell_type": "markdown",
   "metadata": {
    "colab_type": "text",
    "id": "9Y8zg4V566qD"
   },
   "source": [
    "## Bonus: Train a RL Model in One Line\n",
    "\n",
    "The policy class to use will be inferred and the environment will be automatically created. This works because both are [registered](https://stable-baselines3.readthedocs.io/en/master/guide/quickstart.html)."
   ]
  },
  {
   "cell_type": "code",
   "execution_count": null,
   "metadata": {
    "colab": {},
    "colab_type": "code",
    "id": "iaOPfOrwWEP4"
   },
   "outputs": [],
   "source": [
    "model = PPO('MlpPolicy', \"CartPole-v1\", verbose=1).learn(1000)"
   ]
  },
  {
   "attachments": {},
   "cell_type": "markdown",
   "metadata": {
    "colab_type": "text",
    "id": "FrI6f5fWnzp-"
   },
   "source": [
    "## Conclusion\n",
    "\n",
    "In this notebook we have seen:\n",
    "- how to define and train a RL model using stable baselines3, it takes only one line of code ;)"
   ]
  },
  {
   "cell_type": "code",
   "execution_count": 24,
   "metadata": {
    "colab": {},
    "colab_type": "code",
    "id": "73ji3gbNDkf7"
   },
   "outputs": [
    {
     "name": "stdout",
     "output_type": "stream",
     "text": [
      "Num timesteps: 1000\n",
      "Best mean reward: -inf - Last mean reward per episode: -52.89\n",
      "Saving new best model to tmp/best_model\n",
      "Num timesteps: 2000\n",
      "Best mean reward: -52.89 - Last mean reward per episode: 446.34\n",
      "Saving new best model to tmp/best_model\n",
      "Num timesteps: 3000\n",
      "Best mean reward: 446.34 - Last mean reward per episode: -335.50\n",
      "Num timesteps: 4000\n",
      "Best mean reward: 446.34 - Last mean reward per episode: -666.75\n",
      "Num timesteps: 5000\n",
      "Best mean reward: 446.34 - Last mean reward per episode: -706.12\n",
      "Num timesteps: 6000\n",
      "Best mean reward: 446.34 - Last mean reward per episode: -577.29\n",
      "Num timesteps: 7000\n",
      "Best mean reward: 446.34 - Last mean reward per episode: -461.60\n",
      "Num timesteps: 8000\n",
      "Best mean reward: 446.34 - Last mean reward per episode: -347.89\n",
      "Num timesteps: 9000\n",
      "Best mean reward: 446.34 - Last mean reward per episode: -252.84\n",
      "Num timesteps: 10000\n",
      "Best mean reward: 446.34 - Last mean reward per episode: -180.06\n",
      "Num timesteps: 11000\n",
      "Best mean reward: 446.34 - Last mean reward per episode: -115.64\n",
      "Num timesteps: 12000\n",
      "Best mean reward: 446.34 - Last mean reward per episode: -65.07\n",
      "Num timesteps: 13000\n",
      "Best mean reward: 446.34 - Last mean reward per episode: -10.39\n",
      "Num timesteps: 14000\n",
      "Best mean reward: 446.34 - Last mean reward per episode: 36.33\n",
      "Num timesteps: 15000\n",
      "Best mean reward: 446.34 - Last mean reward per episode: 83.76\n",
      "Num timesteps: 16000\n",
      "Best mean reward: 446.34 - Last mean reward per episode: 124.87\n",
      "Num timesteps: 17000\n",
      "Best mean reward: 446.34 - Last mean reward per episode: 160.76\n",
      "Num timesteps: 18000\n",
      "Best mean reward: 446.34 - Last mean reward per episode: 194.78\n",
      "Num timesteps: 19000\n",
      "Best mean reward: 446.34 - Last mean reward per episode: 226.17\n",
      "Num timesteps: 20000\n",
      "Best mean reward: 446.34 - Last mean reward per episode: 255.17\n",
      "Num timesteps: 21000\n",
      "Best mean reward: 446.34 - Last mean reward per episode: 284.51\n",
      "Num timesteps: 22000\n",
      "Best mean reward: 446.34 - Last mean reward per episode: 313.45\n",
      "Num timesteps: 23000\n",
      "Best mean reward: 446.34 - Last mean reward per episode: 338.48\n",
      "Num timesteps: 24000\n",
      "Best mean reward: 446.34 - Last mean reward per episode: 362.41\n",
      "Num timesteps: 25000\n",
      "Best mean reward: 446.34 - Last mean reward per episode: 385.59\n",
      "Num timesteps: 26000\n",
      "Best mean reward: 446.34 - Last mean reward per episode: 412.78\n",
      "Num timesteps: 27000\n",
      "Best mean reward: 446.34 - Last mean reward per episode: 434.24\n",
      "Num timesteps: 28000\n",
      "Best mean reward: 446.34 - Last mean reward per episode: 459.11\n",
      "Saving new best model to tmp/best_model\n",
      "Num timesteps: 29000\n",
      "Best mean reward: 459.11 - Last mean reward per episode: 477.81\n",
      "Saving new best model to tmp/best_model\n",
      "Num timesteps: 30000\n",
      "Best mean reward: 477.81 - Last mean reward per episode: 505.65\n",
      "Saving new best model to tmp/best_model\n",
      "Num timesteps: 31000\n",
      "Best mean reward: 505.65 - Last mean reward per episode: 512.70\n",
      "Saving new best model to tmp/best_model\n",
      "Num timesteps: 32000\n",
      "Best mean reward: 512.70 - Last mean reward per episode: 518.91\n",
      "Saving new best model to tmp/best_model\n",
      "Num timesteps: 33000\n",
      "Best mean reward: 518.91 - Last mean reward per episode: 537.97\n",
      "Saving new best model to tmp/best_model\n",
      "Num timesteps: 34000\n",
      "Best mean reward: 537.97 - Last mean reward per episode: 551.58\n",
      "Saving new best model to tmp/best_model\n",
      "Num timesteps: 35000\n",
      "Best mean reward: 551.58 - Last mean reward per episode: 550.08\n",
      "Num timesteps: 36000\n",
      "Best mean reward: 551.58 - Last mean reward per episode: 562.92\n",
      "Saving new best model to tmp/best_model\n",
      "Num timesteps: 37000\n",
      "Best mean reward: 562.92 - Last mean reward per episode: 584.24\n",
      "Saving new best model to tmp/best_model\n",
      "Num timesteps: 38000\n",
      "Best mean reward: 584.24 - Last mean reward per episode: 606.33\n",
      "Saving new best model to tmp/best_model\n",
      "Num timesteps: 39000\n",
      "Best mean reward: 606.33 - Last mean reward per episode: 614.55\n",
      "Saving new best model to tmp/best_model\n",
      "Num timesteps: 40000\n",
      "Best mean reward: 614.55 - Last mean reward per episode: 626.78\n",
      "Saving new best model to tmp/best_model\n",
      "Num timesteps: 41000\n",
      "Best mean reward: 626.78 - Last mean reward per episode: 652.53\n",
      "Saving new best model to tmp/best_model\n",
      "Num timesteps: 42000\n",
      "Best mean reward: 652.53 - Last mean reward per episode: 633.47\n",
      "Num timesteps: 43000\n",
      "Best mean reward: 652.53 - Last mean reward per episode: 645.20\n",
      "Num timesteps: 44000\n",
      "Best mean reward: 652.53 - Last mean reward per episode: 658.94\n",
      "Saving new best model to tmp/best_model\n",
      "Num timesteps: 45000\n",
      "Best mean reward: 658.94 - Last mean reward per episode: 676.79\n",
      "Saving new best model to tmp/best_model\n",
      "Num timesteps: 46000\n",
      "Best mean reward: 676.79 - Last mean reward per episode: 678.48\n",
      "Saving new best model to tmp/best_model\n",
      "Num timesteps: 47000\n",
      "Best mean reward: 678.48 - Last mean reward per episode: 695.36\n",
      "Saving new best model to tmp/best_model\n",
      "Num timesteps: 48000\n",
      "Best mean reward: 695.36 - Last mean reward per episode: 716.35\n",
      "Saving new best model to tmp/best_model\n",
      "Num timesteps: 49000\n",
      "Best mean reward: 716.35 - Last mean reward per episode: 705.76\n",
      "Num timesteps: 50000\n",
      "Best mean reward: 716.35 - Last mean reward per episode: 724.07\n",
      "Saving new best model to tmp/best_model\n",
      "Num timesteps: 51000\n",
      "Best mean reward: 724.07 - Last mean reward per episode: 742.54\n",
      "Saving new best model to tmp/best_model\n",
      "Num timesteps: 52000\n",
      "Best mean reward: 742.54 - Last mean reward per episode: 760.83\n",
      "Saving new best model to tmp/best_model\n",
      "Num timesteps: 53000\n",
      "Best mean reward: 760.83 - Last mean reward per episode: 751.73\n",
      "Num timesteps: 54000\n",
      "Best mean reward: 760.83 - Last mean reward per episode: 765.28\n",
      "Saving new best model to tmp/best_model\n",
      "Num timesteps: 55000\n",
      "Best mean reward: 765.28 - Last mean reward per episode: 774.20\n",
      "Saving new best model to tmp/best_model\n",
      "Num timesteps: 56000\n",
      "Best mean reward: 774.20 - Last mean reward per episode: 791.77\n",
      "Saving new best model to tmp/best_model\n",
      "Num timesteps: 57000\n",
      "Best mean reward: 791.77 - Last mean reward per episode: 808.74\n",
      "Saving new best model to tmp/best_model\n",
      "Num timesteps: 58000\n",
      "Best mean reward: 808.74 - Last mean reward per episode: 822.35\n",
      "Saving new best model to tmp/best_model\n",
      "Num timesteps: 59000\n",
      "Best mean reward: 822.35 - Last mean reward per episode: 836.75\n",
      "Saving new best model to tmp/best_model\n",
      "Num timesteps: 60000\n",
      "Best mean reward: 836.75 - Last mean reward per episode: 852.97\n",
      "Saving new best model to tmp/best_model\n",
      "Num timesteps: 61000\n",
      "Best mean reward: 852.97 - Last mean reward per episode: 868.72\n",
      "Saving new best model to tmp/best_model\n",
      "Num timesteps: 62000\n",
      "Best mean reward: 868.72 - Last mean reward per episode: 883.65\n",
      "Saving new best model to tmp/best_model\n",
      "Num timesteps: 63000\n",
      "Best mean reward: 883.65 - Last mean reward per episode: 899.23\n",
      "Saving new best model to tmp/best_model\n",
      "Num timesteps: 64000\n",
      "Best mean reward: 899.23 - Last mean reward per episode: 913.48\n",
      "Saving new best model to tmp/best_model\n",
      "Num timesteps: 65000\n",
      "Best mean reward: 913.48 - Last mean reward per episode: 926.62\n",
      "Saving new best model to tmp/best_model\n",
      "Num timesteps: 66000\n",
      "Best mean reward: 926.62 - Last mean reward per episode: 942.43\n",
      "Saving new best model to tmp/best_model\n",
      "Num timesteps: 67000\n",
      "Best mean reward: 942.43 - Last mean reward per episode: 938.68\n",
      "Num timesteps: 68000\n",
      "Best mean reward: 942.43 - Last mean reward per episode: 952.09\n",
      "Saving new best model to tmp/best_model\n",
      "Num timesteps: 69000\n",
      "Best mean reward: 952.09 - Last mean reward per episode: 964.79\n",
      "Saving new best model to tmp/best_model\n",
      "Num timesteps: 70000\n",
      "Best mean reward: 964.79 - Last mean reward per episode: 977.75\n",
      "Saving new best model to tmp/best_model\n",
      "Num timesteps: 71000\n",
      "Best mean reward: 977.75 - Last mean reward per episode: 991.16\n",
      "Saving new best model to tmp/best_model\n",
      "Num timesteps: 72000\n",
      "Best mean reward: 991.16 - Last mean reward per episode: 1004.15\n",
      "Saving new best model to tmp/best_model\n",
      "Num timesteps: 73000\n",
      "Best mean reward: 1004.15 - Last mean reward per episode: 1016.40\n",
      "Saving new best model to tmp/best_model\n",
      "Num timesteps: 74000\n",
      "Best mean reward: 1016.40 - Last mean reward per episode: 1029.19\n",
      "Saving new best model to tmp/best_model\n",
      "Num timesteps: 75000\n",
      "Best mean reward: 1029.19 - Last mean reward per episode: 1041.31\n",
      "Saving new best model to tmp/best_model\n",
      "Num timesteps: 76000\n",
      "Best mean reward: 1041.31 - Last mean reward per episode: 1053.72\n",
      "Saving new best model to tmp/best_model\n",
      "Num timesteps: 77000\n",
      "Best mean reward: 1053.72 - Last mean reward per episode: 1064.84\n",
      "Saving new best model to tmp/best_model\n",
      "Num timesteps: 78000\n",
      "Best mean reward: 1064.84 - Last mean reward per episode: 1053.12\n",
      "Num timesteps: 79000\n",
      "Best mean reward: 1064.84 - Last mean reward per episode: 1064.13\n",
      "Num timesteps: 80000\n",
      "Best mean reward: 1064.84 - Last mean reward per episode: 1074.03\n",
      "Saving new best model to tmp/best_model\n",
      "Num timesteps: 81000\n",
      "Best mean reward: 1074.03 - Last mean reward per episode: 1084.81\n",
      "Saving new best model to tmp/best_model\n",
      "Num timesteps: 82000\n",
      "Best mean reward: 1084.81 - Last mean reward per episode: 1075.77\n",
      "Num timesteps: 83000\n",
      "Best mean reward: 1084.81 - Last mean reward per episode: 1086.33\n",
      "Saving new best model to tmp/best_model\n",
      "Num timesteps: 84000\n",
      "Best mean reward: 1086.33 - Last mean reward per episode: 1083.79\n",
      "Num timesteps: 85000\n",
      "Best mean reward: 1086.33 - Last mean reward per episode: 1088.63\n",
      "Saving new best model to tmp/best_model\n",
      "Num timesteps: 86000\n",
      "Best mean reward: 1088.63 - Last mean reward per episode: 1099.01\n",
      "Saving new best model to tmp/best_model\n",
      "Num timesteps: 87000\n",
      "Best mean reward: 1099.01 - Last mean reward per episode: 1113.72\n",
      "Saving new best model to tmp/best_model\n",
      "Num timesteps: 88000\n",
      "Best mean reward: 1113.72 - Last mean reward per episode: 1123.72\n",
      "Saving new best model to tmp/best_model\n",
      "Num timesteps: 89000\n",
      "Best mean reward: 1123.72 - Last mean reward per episode: 1123.20\n",
      "Num timesteps: 90000\n",
      "Best mean reward: 1123.72 - Last mean reward per episode: 1134.47\n",
      "Saving new best model to tmp/best_model\n",
      "Num timesteps: 91000\n",
      "Best mean reward: 1134.47 - Last mean reward per episode: 1174.67\n",
      "Saving new best model to tmp/best_model\n",
      "Num timesteps: 92000\n",
      "Best mean reward: 1174.67 - Last mean reward per episode: 1220.20\n",
      "Saving new best model to tmp/best_model\n",
      "Num timesteps: 93000\n",
      "Best mean reward: 1220.20 - Last mean reward per episode: 1241.76\n",
      "Saving new best model to tmp/best_model\n",
      "Num timesteps: 94000\n",
      "Best mean reward: 1241.76 - Last mean reward per episode: 1240.08\n",
      "Num timesteps: 95000\n",
      "Best mean reward: 1241.76 - Last mean reward per episode: 1241.51\n",
      "Num timesteps: 96000\n",
      "Best mean reward: 1241.76 - Last mean reward per episode: 1236.92\n",
      "Num timesteps: 97000\n",
      "Best mean reward: 1241.76 - Last mean reward per episode: 1251.56\n",
      "Saving new best model to tmp/best_model\n",
      "Num timesteps: 98000\n",
      "Best mean reward: 1251.56 - Last mean reward per episode: 1265.60\n",
      "Saving new best model to tmp/best_model\n",
      "Num timesteps: 99000\n",
      "Best mean reward: 1265.60 - Last mean reward per episode: 1278.37\n",
      "Saving new best model to tmp/best_model\n",
      "Num timesteps: 100000\n",
      "Best mean reward: 1278.37 - Last mean reward per episode: 1293.20\n",
      "Saving new best model to tmp/best_model\n",
      "Num timesteps: 101000\n",
      "Best mean reward: 1293.20 - Last mean reward per episode: 1308.20\n",
      "Saving new best model to tmp/best_model\n",
      "Num timesteps: 102000\n",
      "Best mean reward: 1308.20 - Last mean reward per episode: 1323.16\n",
      "Saving new best model to tmp/best_model\n",
      "Num timesteps: 103000\n",
      "Best mean reward: 1323.16 - Last mean reward per episode: 1336.39\n",
      "Saving new best model to tmp/best_model\n",
      "Num timesteps: 104000\n",
      "Best mean reward: 1336.39 - Last mean reward per episode: 1341.91\n",
      "Saving new best model to tmp/best_model\n",
      "Num timesteps: 105000\n",
      "Best mean reward: 1341.91 - Last mean reward per episode: 1354.99\n",
      "Saving new best model to tmp/best_model\n",
      "Num timesteps: 106000\n",
      "Best mean reward: 1354.99 - Last mean reward per episode: 1367.87\n",
      "Saving new best model to tmp/best_model\n",
      "Num timesteps: 107000\n",
      "Best mean reward: 1367.87 - Last mean reward per episode: 1379.52\n",
      "Saving new best model to tmp/best_model\n",
      "Num timesteps: 108000\n",
      "Best mean reward: 1379.52 - Last mean reward per episode: 1391.26\n",
      "Saving new best model to tmp/best_model\n",
      "Num timesteps: 109000\n",
      "Best mean reward: 1391.26 - Last mean reward per episode: 1404.84\n",
      "Saving new best model to tmp/best_model\n",
      "Num timesteps: 110000\n",
      "Best mean reward: 1404.84 - Last mean reward per episode: 1418.77\n",
      "Saving new best model to tmp/best_model\n",
      "Num timesteps: 111000\n",
      "Best mean reward: 1418.77 - Last mean reward per episode: 1430.30\n",
      "Saving new best model to tmp/best_model\n",
      "Num timesteps: 112000\n",
      "Best mean reward: 1430.30 - Last mean reward per episode: 1442.44\n",
      "Saving new best model to tmp/best_model\n",
      "Num timesteps: 113000\n",
      "Best mean reward: 1442.44 - Last mean reward per episode: 1460.01\n",
      "Saving new best model to tmp/best_model\n",
      "Num timesteps: 114000\n",
      "Best mean reward: 1460.01 - Last mean reward per episode: 1472.24\n",
      "Saving new best model to tmp/best_model\n",
      "Num timesteps: 115000\n",
      "Best mean reward: 1472.24 - Last mean reward per episode: 1480.04\n",
      "Saving new best model to tmp/best_model\n",
      "Num timesteps: 116000\n",
      "Best mean reward: 1480.04 - Last mean reward per episode: 1481.96\n",
      "Saving new best model to tmp/best_model\n",
      "Num timesteps: 117000\n",
      "Best mean reward: 1481.96 - Last mean reward per episode: 1489.59\n",
      "Saving new best model to tmp/best_model\n",
      "Num timesteps: 118000\n",
      "Best mean reward: 1489.59 - Last mean reward per episode: 1501.53\n",
      "Saving new best model to tmp/best_model\n",
      "Num timesteps: 119000\n",
      "Best mean reward: 1501.53 - Last mean reward per episode: 1509.76\n",
      "Saving new best model to tmp/best_model\n",
      "Num timesteps: 120000\n",
      "Best mean reward: 1509.76 - Last mean reward per episode: 1525.67\n",
      "Saving new best model to tmp/best_model\n",
      "Num timesteps: 121000\n",
      "Best mean reward: 1525.67 - Last mean reward per episode: 1540.10\n",
      "Saving new best model to tmp/best_model\n",
      "Num timesteps: 122000\n",
      "Best mean reward: 1540.10 - Last mean reward per episode: 1550.49\n",
      "Saving new best model to tmp/best_model\n",
      "Num timesteps: 123000\n",
      "Best mean reward: 1550.49 - Last mean reward per episode: 1548.87\n",
      "Num timesteps: 124000\n",
      "Best mean reward: 1550.49 - Last mean reward per episode: 1564.47\n",
      "Saving new best model to tmp/best_model\n",
      "Num timesteps: 125000\n",
      "Best mean reward: 1564.47 - Last mean reward per episode: 1582.90\n",
      "Saving new best model to tmp/best_model\n",
      "Num timesteps: 126000\n",
      "Best mean reward: 1582.90 - Last mean reward per episode: 1594.64\n",
      "Saving new best model to tmp/best_model\n",
      "Num timesteps: 127000\n",
      "Best mean reward: 1594.64 - Last mean reward per episode: 1591.12\n",
      "Num timesteps: 128000\n",
      "Best mean reward: 1594.64 - Last mean reward per episode: 1599.61\n",
      "Saving new best model to tmp/best_model\n",
      "Num timesteps: 129000\n",
      "Best mean reward: 1599.61 - Last mean reward per episode: 1622.63\n",
      "Saving new best model to tmp/best_model\n",
      "Num timesteps: 130000\n",
      "Best mean reward: 1622.63 - Last mean reward per episode: 1631.86\n",
      "Saving new best model to tmp/best_model\n",
      "Num timesteps: 131000\n",
      "Best mean reward: 1631.86 - Last mean reward per episode: 1636.74\n",
      "Saving new best model to tmp/best_model\n",
      "Num timesteps: 132000\n",
      "Best mean reward: 1636.74 - Last mean reward per episode: 1663.32\n",
      "Saving new best model to tmp/best_model\n",
      "Num timesteps: 133000\n",
      "Best mean reward: 1663.32 - Last mean reward per episode: 1682.85\n",
      "Saving new best model to tmp/best_model\n",
      "Num timesteps: 134000\n",
      "Best mean reward: 1682.85 - Last mean reward per episode: 1694.11\n",
      "Saving new best model to tmp/best_model\n",
      "Num timesteps: 135000\n",
      "Best mean reward: 1694.11 - Last mean reward per episode: 1702.43\n",
      "Saving new best model to tmp/best_model\n",
      "Num timesteps: 136000\n",
      "Best mean reward: 1702.43 - Last mean reward per episode: 1695.97\n",
      "Num timesteps: 137000\n",
      "Best mean reward: 1702.43 - Last mean reward per episode: 1711.86\n",
      "Saving new best model to tmp/best_model\n",
      "Num timesteps: 138000\n",
      "Best mean reward: 1711.86 - Last mean reward per episode: 1718.19\n",
      "Saving new best model to tmp/best_model\n",
      "Num timesteps: 139000\n",
      "Best mean reward: 1718.19 - Last mean reward per episode: 1720.35\n",
      "Saving new best model to tmp/best_model\n",
      "Num timesteps: 140000\n",
      "Best mean reward: 1720.35 - Last mean reward per episode: 1737.01\n",
      "Saving new best model to tmp/best_model\n",
      "Num timesteps: 141000\n",
      "Best mean reward: 1737.01 - Last mean reward per episode: 1757.29\n",
      "Saving new best model to tmp/best_model\n",
      "Num timesteps: 142000\n",
      "Best mean reward: 1757.29 - Last mean reward per episode: 1762.22\n",
      "Saving new best model to tmp/best_model\n",
      "Num timesteps: 143000\n",
      "Best mean reward: 1762.22 - Last mean reward per episode: 1766.85\n",
      "Saving new best model to tmp/best_model\n",
      "Num timesteps: 144000\n",
      "Best mean reward: 1766.85 - Last mean reward per episode: 1771.34\n",
      "Saving new best model to tmp/best_model\n",
      "Num timesteps: 145000\n",
      "Best mean reward: 1771.34 - Last mean reward per episode: 1791.35\n",
      "Saving new best model to tmp/best_model\n",
      "Num timesteps: 146000\n",
      "Best mean reward: 1791.35 - Last mean reward per episode: 1798.80\n",
      "Saving new best model to tmp/best_model\n",
      "Num timesteps: 147000\n",
      "Best mean reward: 1798.80 - Last mean reward per episode: 1793.72\n",
      "Num timesteps: 148000\n",
      "Best mean reward: 1798.80 - Last mean reward per episode: 1798.23\n",
      "Num timesteps: 149000\n",
      "Best mean reward: 1798.80 - Last mean reward per episode: 1804.61\n",
      "Saving new best model to tmp/best_model\n",
      "Num timesteps: 150000\n",
      "Best mean reward: 1804.61 - Last mean reward per episode: 1796.03\n",
      "Num timesteps: 151000\n",
      "Best mean reward: 1804.61 - Last mean reward per episode: 1799.85\n",
      "Num timesteps: 152000\n",
      "Best mean reward: 1804.61 - Last mean reward per episode: 1769.30\n",
      "Num timesteps: 153000\n",
      "Best mean reward: 1804.61 - Last mean reward per episode: 1746.04\n",
      "Num timesteps: 154000\n",
      "Best mean reward: 1804.61 - Last mean reward per episode: 1748.87\n",
      "Num timesteps: 155000\n",
      "Best mean reward: 1804.61 - Last mean reward per episode: 1763.15\n",
      "Num timesteps: 156000\n",
      "Best mean reward: 1804.61 - Last mean reward per episode: 1733.73\n",
      "Num timesteps: 157000\n",
      "Best mean reward: 1804.61 - Last mean reward per episode: 1749.60\n",
      "Num timesteps: 158000\n",
      "Best mean reward: 1804.61 - Last mean reward per episode: 1754.05\n",
      "Num timesteps: 159000\n",
      "Best mean reward: 1804.61 - Last mean reward per episode: 1758.28\n",
      "Num timesteps: 160000\n",
      "Best mean reward: 1804.61 - Last mean reward per episode: 1762.62\n",
      "Num timesteps: 161000\n",
      "Best mean reward: 1804.61 - Last mean reward per episode: 1764.95\n",
      "Num timesteps: 162000\n",
      "Best mean reward: 1804.61 - Last mean reward per episode: 1767.79\n",
      "Num timesteps: 163000\n",
      "Best mean reward: 1804.61 - Last mean reward per episode: 1771.73\n",
      "Num timesteps: 164000\n",
      "Best mean reward: 1804.61 - Last mean reward per episode: 1775.03\n",
      "Num timesteps: 165000\n",
      "Best mean reward: 1804.61 - Last mean reward per episode: 1777.88\n",
      "Num timesteps: 166000\n",
      "Best mean reward: 1804.61 - Last mean reward per episode: 1779.23\n",
      "Num timesteps: 167000\n",
      "Best mean reward: 1804.61 - Last mean reward per episode: 1792.19\n",
      "Num timesteps: 168000\n",
      "Best mean reward: 1804.61 - Last mean reward per episode: 1795.01\n",
      "Num timesteps: 169000\n",
      "Best mean reward: 1804.61 - Last mean reward per episode: 1817.50\n",
      "Saving new best model to tmp/best_model\n",
      "Num timesteps: 170000\n",
      "Best mean reward: 1817.50 - Last mean reward per episode: 1820.26\n",
      "Saving new best model to tmp/best_model\n",
      "Num timesteps: 171000\n",
      "Best mean reward: 1820.26 - Last mean reward per episode: 1809.33\n",
      "Num timesteps: 172000\n",
      "Best mean reward: 1820.26 - Last mean reward per episode: 1811.72\n",
      "Num timesteps: 173000\n",
      "Best mean reward: 1820.26 - Last mean reward per episode: 1828.57\n",
      "Saving new best model to tmp/best_model\n",
      "Num timesteps: 174000\n",
      "Best mean reward: 1828.57 - Last mean reward per episode: 1830.35\n",
      "Saving new best model to tmp/best_model\n",
      "Num timesteps: 175000\n",
      "Best mean reward: 1830.35 - Last mean reward per episode: 1845.97\n",
      "Saving new best model to tmp/best_model\n",
      "Num timesteps: 176000\n",
      "Best mean reward: 1845.97 - Last mean reward per episode: 1854.23\n",
      "Saving new best model to tmp/best_model\n",
      "Num timesteps: 177000\n",
      "Best mean reward: 1854.23 - Last mean reward per episode: 1856.92\n",
      "Saving new best model to tmp/best_model\n",
      "Num timesteps: 178000\n",
      "Best mean reward: 1856.92 - Last mean reward per episode: 1859.73\n",
      "Saving new best model to tmp/best_model\n",
      "Num timesteps: 179000\n",
      "Best mean reward: 1859.73 - Last mean reward per episode: 1867.44\n",
      "Saving new best model to tmp/best_model\n",
      "Num timesteps: 180000\n",
      "Best mean reward: 1867.44 - Last mean reward per episode: 1869.76\n",
      "Saving new best model to tmp/best_model\n",
      "Num timesteps: 181000\n",
      "Best mean reward: 1869.76 - Last mean reward per episode: 1883.99\n",
      "Saving new best model to tmp/best_model\n",
      "Num timesteps: 182000\n",
      "Best mean reward: 1883.99 - Last mean reward per episode: 1905.33\n",
      "Saving new best model to tmp/best_model\n",
      "Num timesteps: 183000\n",
      "Best mean reward: 1905.33 - Last mean reward per episode: 1893.74\n",
      "Num timesteps: 184000\n",
      "Best mean reward: 1905.33 - Last mean reward per episode: 1899.44\n",
      "Num timesteps: 185000\n",
      "Best mean reward: 1905.33 - Last mean reward per episode: 1903.04\n",
      "Num timesteps: 186000\n",
      "Best mean reward: 1905.33 - Last mean reward per episode: 1927.06\n",
      "Saving new best model to tmp/best_model\n",
      "Num timesteps: 187000\n",
      "Best mean reward: 1927.06 - Last mean reward per episode: 1958.96\n",
      "Saving new best model to tmp/best_model\n",
      "Num timesteps: 188000\n",
      "Best mean reward: 1958.96 - Last mean reward per episode: 1988.89\n",
      "Saving new best model to tmp/best_model\n",
      "Num timesteps: 189000\n",
      "Best mean reward: 1988.89 - Last mean reward per episode: 1990.57\n",
      "Saving new best model to tmp/best_model\n",
      "Num timesteps: 190000\n",
      "Best mean reward: 1990.57 - Last mean reward per episode: 1992.76\n",
      "Saving new best model to tmp/best_model\n",
      "Num timesteps: 191000\n",
      "Best mean reward: 1992.76 - Last mean reward per episode: 1996.99\n",
      "Saving new best model to tmp/best_model\n",
      "Num timesteps: 192000\n",
      "Best mean reward: 1996.99 - Last mean reward per episode: 1999.49\n",
      "Saving new best model to tmp/best_model\n",
      "Num timesteps: 193000\n",
      "Best mean reward: 1999.49 - Last mean reward per episode: 2001.43\n",
      "Saving new best model to tmp/best_model\n",
      "Num timesteps: 194000\n",
      "Best mean reward: 2001.43 - Last mean reward per episode: 2004.00\n",
      "Saving new best model to tmp/best_model\n",
      "Num timesteps: 195000\n",
      "Best mean reward: 2004.00 - Last mean reward per episode: 2005.17\n",
      "Saving new best model to tmp/best_model\n",
      "Num timesteps: 196000\n",
      "Best mean reward: 2005.17 - Last mean reward per episode: 2015.42\n",
      "Saving new best model to tmp/best_model\n",
      "Num timesteps: 197000\n",
      "Best mean reward: 2015.42 - Last mean reward per episode: 2017.57\n",
      "Saving new best model to tmp/best_model\n",
      "Num timesteps: 198000\n",
      "Best mean reward: 2017.57 - Last mean reward per episode: 2019.79\n",
      "Saving new best model to tmp/best_model\n",
      "Num timesteps: 199000\n",
      "Best mean reward: 2019.79 - Last mean reward per episode: 2024.80\n",
      "Saving new best model to tmp/best_model\n",
      "Num timesteps: 200000\n",
      "Best mean reward: 2024.80 - Last mean reward per episode: 2028.11\n",
      "Saving new best model to tmp/best_model\n"
     ]
    },
    {
     "data": {
      "image/png": "[encoded data removed]",
      "text/plain": [
       "<Figure size 800x200 with 1 Axes>"
      ]
     },
     "metadata": {},
     "output_type": "display_data"
    }
   ],
   "source": [
    "import os\n",
    "\n",
    "import gymnasium as gym\n",
    "import numpy as np\n",
    "import matplotlib.pyplot as plt\n",
    "\n",
    "from stable_baselines3 import TD3\n",
    "from stable_baselines3.common import results_plotter\n",
    "from stable_baselines3.common.monitor import Monitor\n",
    "from stable_baselines3.common.results_plotter import load_results, ts2xy, plot_results\n",
    "from stable_baselines3.common.noise import NormalActionNoise\n",
    "from stable_baselines3.common.callbacks import BaseCallback\n",
    "\n",
    "\n",
    "class SaveOnBestTrainingRewardCallback(BaseCallback):\n",
    "    \"\"\"\n",
    "    Callback for saving a model (the check is done every ``check_freq`` steps)\n",
    "    based on the training reward (in practice, we recommend using ``EvalCallback``).\n",
    "\n",
    "    :param check_freq:\n",
    "    :param log_dir: Path to the folder where the model will be saved.\n",
    "      It must contains the file created by the ``Monitor`` wrapper.\n",
    "    :param verbose: Verbosity level: 0 for no output, 1 for info messages, 2 for debug messages\n",
    "    \"\"\"\n",
    "    def __init__(self, check_freq: int, log_dir: str, verbose: int = 1):\n",
    "        super(SaveOnBestTrainingRewardCallback, self).__init__(verbose)\n",
    "        self.check_freq = check_freq\n",
    "        self.log_dir = log_dir\n",
    "        self.save_path = os.path.join(log_dir, \"best_model\")\n",
    "        self.best_mean_reward = -np.inf\n",
    "\n",
    "    def _init_callback(self) -> None:\n",
    "        # Create folder if needed\n",
    "        if self.save_path is not None:\n",
    "            os.makedirs(self.save_path, exist_ok=True)\n",
    "\n",
    "    def _on_step(self) -> bool:\n",
    "        if self.n_calls % self.check_freq == 0:\n",
    "\n",
    "          # Retrieve training reward\n",
    "          x, y = ts2xy(load_results(self.log_dir), \"timesteps\")\n",
    "          if len(x) > 0:\n",
    "              # Mean training reward over the last 100 episodes\n",
    "              mean_reward = np.mean(y[-100:])\n",
    "              if self.verbose >= 1:\n",
    "                print(f\"Num timesteps: {self.num_timesteps}\")\n",
    "                print(f\"Best mean reward: {self.best_mean_reward:.2f} - Last mean reward per episode: {mean_reward:.2f}\")\n",
    "\n",
    "              # New best model, you could save the agent here\n",
    "              if mean_reward > self.best_mean_reward:\n",
    "                  self.best_mean_reward = mean_reward\n",
    "                  # Example for saving best model\n",
    "                  if self.verbose >= 1:\n",
    "                    print(f\"Saving new best model to {self.save_path}\")\n",
    "                  self.model.save(self.save_path)\n",
    "\n",
    "        return True\n",
    "\n",
    "# Create log dir\n",
    "log_dir = \"tmp/\"\n",
    "os.makedirs(log_dir, exist_ok=True)\n",
    "\n",
    "# Create and wrap the environment\n",
    "# env = gym.make(\"LunarLanderContinuous-v2\")\n",
    "\n",
    "env = gym.make(\"Ant-v4\")\n",
    "env = Monitor(env, log_dir)\n",
    "\n",
    "# Add some action noise for exploration\n",
    "n_actions = env.action_space.shape[-1]\n",
    "action_noise = NormalActionNoise(mean=np.zeros(n_actions), sigma=0.1 * np.ones(n_actions))\n",
    "# Because we use parameter noise, we should use a MlpPolicy with layer normalization\n",
    "model = TD3(\"MlpPolicy\", env, action_noise=action_noise, verbose=0)\n",
    "# Create the callback: check every 1000 steps\n",
    "callback = SaveOnBestTrainingRewardCallback(check_freq=1000, log_dir=log_dir)\n",
    "# Train the agent\n",
    "timesteps = 2e5\n",
    "model.learn(total_timesteps=int(timesteps), callback=callback)\n",
    "\n",
    "plot_results([log_dir], timesteps, results_plotter.X_TIMESTEPS, \"TD3 Ant\")\n",
    "plt.show()"
   ]
  },
  {
   "cell_type": "code",
   "execution_count": 26,
   "metadata": {},
   "outputs": [
    {
     "name": "stderr",
     "output_type": "stream",
     "text": [
      "/Users/savan/.pyenv/versions/3.11.4/lib/python3.11/site-packages/stable_baselines3/common/vec_env/base_vec_env.py:215: UserWarning: Starting from gymnasium v0.26, render modes are determined during the initialization of the environment.\n",
      "                We allow to pass a mode argument to maintain a backwards compatible VecEnv API, but the mode (rgb_array)\n",
      "                has to be the same as the environment render mode (None) which is not the case.\n",
      "  warnings.warn(\n"
     ]
    },
    {
     "ename": "",
     "evalue": "",
     "output_type": "error",
     "traceback": [
      "\u001b[1;31mThe Kernel crashed while executing code in the the current cell or a previous cell. Please review the code in the cell(s) to identify a possible cause of the failure. Click <a href='https://aka.ms/vscodeJupyterKernelCrash'>here</a> for more info. View Jupyter <a href='command:jupyter.viewOutput'>log</a> for further details."
     ]
    }
   ],
   "source": [
    "# model = TD3.load(\"sac_ant\", env=env)\n",
    "\n",
    "# Evaluate the agent\n",
    "# NOTE: If you use wrappers with your environment that modify rewards,\n",
    "#       this will be reflected here. To evaluate with original rewards,\n",
    "#       wrap environment in a \"Monitor\" wrapper before other wrappers.\n",
    "mean_reward, std_reward = evaluate_policy(model, model.get_env(), n_eval_episodes=10)\n",
    "\n",
    "# Enjoy trained agent\n",
    "vec_env = model.get_env()\n",
    "obs = vec_env.reset()\n",
    "for i in range(1000):\n",
    "    action, _states = model.predict(obs, deterministic=True)\n",
    "    obs, rewards, dones, info = vec_env.step(action)\n",
    "    vec_env.render(\"human\")"
   ]
  },
  {
   "cell_type": "code",
   "execution_count": null,
   "metadata": {},
   "outputs": [],
   "source": []
  }
 ],
 "metadata": {
  "accelerator": "GPU",
  "colab": {
   "collapsed_sections": [],
   "include_colab_link": true,
   "name": "1_getting_started.ipynb",
   "provenance": []
  },
  "kernelspec": {
   "display_name": "Python 3 (ipykernel)",
   "language": "python",
   "name": "python3"
  },
  "language_info": {
   "codemirror_mode": {
    "name": "ipython",
    "version": 3
   },
   "file_extension": ".py",
   "mimetype": "text/x-python",
   "name": "python",
   "nbconvert_exporter": "python",
   "pygments_lexer": "ipython3",
   "version": "3.11.4"
  }
 },
 "nbformat": 4,
 "nbformat_minor": 4
}
